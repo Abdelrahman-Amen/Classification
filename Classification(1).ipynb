{
 "cells": [
  {
   "cell_type": "code",
   "execution_count": 2,
   "id": "af42531a",
   "metadata": {},
   "outputs": [],
   "source": [
    "import numpy as np\n",
    "import pandas as pd\n",
    "from matplotlib import pyplot as plt"
   ]
  },
  {
   "cell_type": "code",
   "execution_count": 3,
   "id": "bcb58b23",
   "metadata": {},
   "outputs": [
    {
     "name": "stdout",
     "output_type": "stream",
     "text": [
      "      Exam 1     Exam 2  admitted\n",
      "0  34.623660  78.024693         0\n",
      "1  30.286711  43.894998         0\n",
      "2  35.847409  72.902198         0\n",
      "3  60.182599  86.308552         1\n",
      "4  79.032736  75.344376         1\n",
      "5  45.083277  56.316372         0\n",
      "6  61.106665  96.511426         1\n",
      "7  75.024746  46.554014         1\n",
      "8  76.098787  87.420570         1\n",
      "9  84.432820  43.533393         1\n"
     ]
    }
   ],
   "source": [
    "data=pd.read_csv(\"C:\\\\Users\\\\abdel\\\\Desktop\\\\classification\\\\cls.csv\",names=[\"Exam 1\",\"Exam 2\", \n",
    "\"admitted\"])\n",
    "print(data.head(10))"
   ]
  },
  {
   "cell_type": "code",
   "execution_count": 21,
   "id": "2167aab6",
   "metadata": {},
   "outputs": [
    {
     "name": "stdout",
     "output_type": "stream",
     "text": [
      "0    34.623660\n",
      "1    30.286711\n",
      "2    35.847409\n",
      "3    60.182599\n",
      "4    79.032736\n",
      "5    45.083277\n",
      "6    61.106665\n",
      "7    75.024746\n",
      "8    76.098787\n",
      "9    84.432820\n",
      "Name: Exam 1, dtype: float64\n"
     ]
    }
   ],
   "source": [
    "print(data[\"Exam 1\"].head(10))"
   ]
  },
  {
   "cell_type": "code",
   "execution_count": 4,
   "id": "15f674cd",
   "metadata": {},
   "outputs": [],
   "source": [
    "positive=data[data[\"admitted\"].isin([1])]\n",
    "negative=data[data[\"admitted\"].isin([0])]"
   ]
  },
  {
   "cell_type": "code",
   "execution_count": 5,
   "id": "4416e9ad",
   "metadata": {},
   "outputs": [
    {
     "data": {
      "text/plain": [
       "Text(0, 0.5, 'Exam 2')"
      ]
     },
     "execution_count": 5,
     "metadata": {},
     "output_type": "execute_result"
    },
    {
     "data": {
      "image/png": "[encoded data removed]",
      "text/plain": [
       "<Figure size 576x432 with 1 Axes>"
      ]
     },
     "metadata": {
      "needs_background": "light"
     },
     "output_type": "display_data"
    }
   ],
   "source": [
    "fig,ax=plt.subplots(figsize=(8,6))\n",
    "ax.scatter(positive[\"Exam 1\"],positive[\"Exam 2\"],c=\"b\",marker=\"o\",label=\"accepted\")\n",
    "ax.scatter(negative[\"Exam 1\"],negative[\"Exam 2\"],c=\"r\",marker=\"x\",label=\"refused\")\n",
    "leg=ax.legend()\n",
    "ax.set_xlabel(\"Exam 1\")\n",
    "ax.set_ylabel(\"Exam 2\")"
   ]
  },
  {
   "cell_type": "code",
   "execution_count": 6,
   "id": "7f283883",
   "metadata": {},
   "outputs": [],
   "source": [
    "def sigmoid(z):\n",
    "    return 1/(1+np.exp(-z))"
   ]
  },
  {
   "cell_type": "code",
   "execution_count": 7,
   "id": "ab4d0c71",
   "metadata": {},
   "outputs": [
    {
     "data": {
      "text/plain": [
       "[<matplotlib.lines.Line2D at 0x27084f91660>]"
      ]
     },
     "execution_count": 7,
     "metadata": {},
     "output_type": "execute_result"
    },
    {
     "data": {
      "image/png": "[encoded data removed]",
      "text/plain": [
       "<Figure size 360x360 with 1 Axes>"
      ]
     },
     "metadata": {
      "needs_background": "light"
     },
     "output_type": "display_data"
    }
   ],
   "source": [
    "nums=np.arange(-10,10) \n",
    "fig,ax=plt.subplots(figsize=(5,5)) \n",
    "ax.plot(nums,sigmoid(nums),c=\"r\")"
   ]
  },
  {
   "cell_type": "code",
   "execution_count": 8,
   "id": "7c947682",
   "metadata": {},
   "outputs": [],
   "source": [
    "data.insert(0,\"one\",1)"
   ]
  },
  {
   "cell_type": "code",
   "execution_count": 9,
   "id": "b91a926f",
   "metadata": {},
   "outputs": [],
   "source": [
    "cols=data.shape[1]\n",
    "x=data.iloc[:,0:cols-1]\n",
    "y=data.iloc[:,cols-1:cols] "
   ]
  },
  {
   "cell_type": "code",
   "execution_count": 10,
   "id": "fcbe50e4",
   "metadata": {},
   "outputs": [],
   "source": [
    "x=np.matrix(x.values)\n",
    "y=np.matrix(y.values)\n",
    "theta=np.matrix(np.zeros(3))\n",
    " "
   ]
  },
  {
   "cell_type": "code",
   "execution_count": 11,
   "id": "9d8971f9",
   "metadata": {},
   "outputs": [
    {
     "name": "stdout",
     "output_type": "stream",
     "text": [
      "cost is 0.6931471805599453\n"
     ]
    }
   ],
   "source": [
    "def cost(theta, x, y):\n",
    "    theta = np.matrix(theta)\n",
    "    x = np.matrix(x)\n",
    "    y = np.matrix(y)\n",
    "    \n",
    "    first = np.multiply(-y, np.log(sigmoid(x * theta.T)))\n",
    "    second = np.multiply((1 - y), np.log(1 - sigmoid(x * theta.T)))\n",
    "    return np.sum(first - second) / (len(x))\n",
    "\n",
    "print(\"cost is\",cost(theta,x,y))\n"
   ]
  },
  {
   "cell_type": "code",
   "execution_count": 14,
   "id": "a42c42d1",
   "metadata": {
    "scrolled": true
   },
   "outputs": [
    {
     "name": "stdout",
     "output_type": "stream",
     "text": [
      "(array([-25.16131865,   0.20623159,   0.20147149]), 36, 0)\n"
     ]
    }
   ],
   "source": [
    "def gradient(theta, x, y):\n",
    "    theta = np.matrix(theta)\n",
    "    x = np.matrix(x)\n",
    "    y = np.matrix(y)\n",
    "    \n",
    "    parameters = theta.shape[1]\n",
    "    grad = np.zeros(parameters)\n",
    "    \n",
    "    error = sigmoid(x * theta.T) - y\n",
    "    \n",
    "    for i in range(parameters):\n",
    "        term = np.multiply(error, x[:,i])\n",
    "        grad[i] = np.sum(term) / len(x)\n",
    "    \n",
    "    return grad\n",
    "\n",
    "import scipy.optimize as opt\n",
    "result = opt.fmin_tnc(func=cost, x0=theta, fprime=gradient, args=(x, y))\n",
    "print(result)\n",
    "\n"
   ]
  },
  {
   "cell_type": "code",
   "execution_count": 13,
   "id": "b8eaa7d6",
   "metadata": {},
   "outputs": [
    {
     "name": "stdout",
     "output_type": "stream",
     "text": [
      "after optimizing 0.20349770158947447\n"
     ]
    }
   ],
   "source": [
    "print(\"after optimizing\",cost(result[0],x,y))"
   ]
  }
 ],
 "metadata": {
  "kernelspec": {
   "display_name": "Python 3 (ipykernel)",
   "language": "python",
   "name": "python3"
  },
  "language_info": {
   "codemirror_mode": {
    "name": "ipython",
    "version": 3
   },
   "file_extension": ".py",
   "mimetype": "text/x-python",
   "name": "python",
   "nbconvert_exporter": "python",
   "pygments_lexer": "ipython3",
   "version": "3.9.12"
  }
 },
 "nbformat": 4,
 "nbformat_minor": 5
}
